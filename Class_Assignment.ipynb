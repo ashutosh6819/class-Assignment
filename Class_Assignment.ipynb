{
 "cells": [
  {
   "cell_type": "code",
   "execution_count": 1,
   "id": "4e12f982",
   "metadata": {},
   "outputs": [
    {
     "name": "stdout",
     "output_type": "stream",
     "text": [
      "6\n"
     ]
    }
   ],
   "source": [
    "\"\"\" 1. you have to write a fun which will take string and return\n",
    "a len of it without using a inbuilt fun len.\"\"\"\n",
    "\n",
    "#sol -\n",
    "e = []\n",
    "a = \" good \"\n",
    "for i,j in enumerate(a):\n",
    "    e.append(i)\n",
    "print(i+1)"
   ]
  },
  {
   "cell_type": "code",
   "execution_count": 2,
   "id": "663b8ef1",
   "metadata": {},
   "outputs": [
    {
     "data": {
      "text/plain": [
       "['.ipynb_checkpoints',\n",
       " 'aa.ipynb',\n",
       " 'airbnb',\n",
       " 'Assignment_1_Excel_T.ipynb',\n",
       " 'Assignment_1_STATS.ipynb',\n",
       " 'Assignment_2_SQL_T.ipynb',\n",
       " 'Assignment_5_PBI_T.ipynb',\n",
       " 'Assignment_6.ipynb',\n",
       " 'Assignment_7.ipynb',\n",
       " 'Assignment_9.ipynb']"
      ]
     },
     "execution_count": 2,
     "metadata": {},
     "output_type": "execute_result"
    }
   ],
   "source": [
    "\"\"\"7. Write a function which will whould return list of all the file\n",
    "name from a directory.\"\"\"\n",
    "\n",
    "#Answer - \n",
    "import os\n",
    "path = \"C:\\\\Users\\\\tez\\\\Business analytics\\\\asngmnt\"\n",
    "dir_list = os.listdir(path)\n",
    "dir_list"
   ]
  },
  {
   "cell_type": "code",
   "execution_count": 5,
   "id": "5136b246",
   "metadata": {},
   "outputs": [
    {
     "data": {
      "text/plain": [
       "uname_result(system='Windows', node='DONE', release='10', version='10.0.22000', machine='AMD64', processor='Intel64 Family 6 Model 142 Stepping 10, GenuineIntel')"
      ]
     },
     "execution_count": 5,
     "metadata": {},
     "output_type": "execute_result"
    }
   ],
   "source": [
    "\"\"\"8.write a function which will be able to show your system\n",
    "configuration.\"\"\"\n",
    "\n",
    "#Answer = \n",
    "import platform\n",
    "my_system = platform.uname()\n",
    "my_system"
   ]
  },
  {
   "cell_type": "code",
   "execution_count": 6,
   "id": "a439e024",
   "metadata": {},
   "outputs": [
    {
     "name": "stdout",
     "output_type": "stream",
     "text": [
      "2022-01-08 10:23:32.789141\n"
     ]
    }
   ],
   "source": [
    "\"\"\"9 write a function which will be able to show date and time.\"\"\"\n",
    "\n",
    "#Answer - \n",
    "import datetime\n",
    "current_time = datetime.datetime.now()\n",
    "print(current_time)"
   ]
  },
  {
   "cell_type": "code",
   "execution_count": null,
   "id": "28d29fdf",
   "metadata": {},
   "outputs": [],
   "source": [
    "#13 write a function which will be able to shutdonw your system.\n",
    "\n",
    "import os\n",
    "\n",
    "shutdown = input(\"Do you wish to shutdown your computer ? (yes / no): \")\n",
    "\n",
    "if shutdown == 'no':\n",
    "\texit()\n",
    "else:\n",
    "\tos.system(\"shutdown /s /t 1\")"
   ]
  },
  {
   "cell_type": "code",
   "execution_count": null,
   "id": "f79be39c",
   "metadata": {},
   "outputs": [],
   "source": []
  },
  {
   "cell_type": "code",
   "execution_count": null,
   "id": "5fa64946",
   "metadata": {},
   "outputs": [],
   "source": []
  }
 ],
 "metadata": {
  "kernelspec": {
   "display_name": "Python 3",
   "language": "python",
   "name": "python3"
  },
  "language_info": {
   "codemirror_mode": {
    "name": "ipython",
    "version": 3
   },
   "file_extension": ".py",
   "mimetype": "text/x-python",
   "name": "python",
   "nbconvert_exporter": "python",
   "pygments_lexer": "ipython3",
   "version": "3.8.8"
  }
 },
 "nbformat": 4,
 "nbformat_minor": 5
}
